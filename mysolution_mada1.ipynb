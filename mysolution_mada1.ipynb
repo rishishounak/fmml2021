{
 "cells": [
  {
   "cell_type": "code",
   "execution_count": 1,
   "metadata": {},
   "outputs": [],
   "source": [
    "import numpy as np\n",
    "A = np.array([[20, 122, 20], [35,180, 35],[50, 220, 65], [70, 300, 30]])\n",
    "x = np.array([[0.05], [0.002], [0.02]])"
   ]
  },
  {
   "cell_type": "code",
   "execution_count": 2,
   "metadata": {},
   "outputs": [],
   "source": [
    "def RankArray(A,x):\n",
    "  y = np.dot(A,x) - 4.0\n",
    "  L = np.hstack((A,y))\n",
    "  return L"
   ]
  },
  {
   "cell_type": "code",
   "execution_count": 3,
   "metadata": {},
   "outputs": [
    {
     "data": {
      "text/plain": [
       "array([[ 2.000e+01,  1.220e+02,  2.000e+01, -2.356e+00],\n",
       "       [ 3.500e+01,  1.800e+02,  3.500e+01, -1.190e+00],\n",
       "       [ 5.000e+01,  2.200e+02,  6.500e+01,  2.400e-01],\n",
       "       [ 7.000e+01,  3.000e+02,  3.000e+01,  7.000e-01]])"
      ]
     },
     "execution_count": 3,
     "metadata": {},
     "output_type": "execute_result"
    }
   ],
   "source": [
    "RankArray(A,x)"
   ]
  },
  {
   "cell_type": "code",
   "execution_count": null,
   "metadata": {},
   "outputs": [],
   "source": []
  }
 ],
 "metadata": {
  "kernelspec": {
   "display_name": "Python 3",
   "language": "python",
   "name": "python3"
  },
  "language_info": {
   "codemirror_mode": {
    "name": "ipython",
    "version": 3
   },
   "file_extension": ".py",
   "mimetype": "text/x-python",
   "name": "python",
   "nbconvert_exporter": "python",
   "pygments_lexer": "ipython3",
   "version": "3.8.3"
  }
 },
 "nbformat": 4,
 "nbformat_minor": 4
}
